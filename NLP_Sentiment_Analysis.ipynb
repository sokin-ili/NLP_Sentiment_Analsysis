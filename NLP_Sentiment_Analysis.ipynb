{
 "cells": [
  {
   "cell_type": "markdown",
   "id": "23568fa8",
   "metadata": {},
   "source": [
    "### Import libraries"
   ]
  },
  {
   "cell_type": "code",
   "execution_count": 1,
   "id": "2f7c0f46",
   "metadata": {
    "ExecuteTime": {
     "end_time": "2022-03-14T18:23:50.532596Z",
     "start_time": "2022-03-14T18:23:47.493382Z"
    }
   },
   "outputs": [],
   "source": [
    "import pandas as pd\n",
    "import re\n",
    "from nltk.corpus import stopwords\n",
    "from sklearn.model_selection import train_test_split\n",
    "from sklearn.ensemble import RandomForestClassifier\n",
    "from sklearn.linear_model import SGDClassifier\n",
    "from nltk.stem import WordNetLemmatizer\n",
    "from sklearn.metrics import classification_report\n",
    "from sklearn.feature_extraction.text import TfidfTransformer\n",
    "from sklearn.feature_extraction.text import CountVectorizer\n",
    "from nltk import word_tokenize, pos_tag\n",
    "from tqdm import tqdm"
   ]
  },
  {
   "cell_type": "code",
   "execution_count": 2,
   "id": "88fd767b",
   "metadata": {
    "ExecuteTime": {
     "end_time": "2022-03-14T18:23:50.673358Z",
     "start_time": "2022-03-14T18:23:50.533584Z"
    }
   },
   "outputs": [
    {
     "data": {
      "text/html": [
       "<div>\n",
       "<style scoped>\n",
       "    .dataframe tbody tr th:only-of-type {\n",
       "        vertical-align: middle;\n",
       "    }\n",
       "\n",
       "    .dataframe tbody tr th {\n",
       "        vertical-align: top;\n",
       "    }\n",
       "\n",
       "    .dataframe thead th {\n",
       "        text-align: right;\n",
       "    }\n",
       "</style>\n",
       "<table border=\"1\" class=\"dataframe\">\n",
       "  <thead>\n",
       "    <tr style=\"text-align: right;\">\n",
       "      <th></th>\n",
       "      <th>tweet</th>\n",
       "      <th>emotion</th>\n",
       "    </tr>\n",
       "  </thead>\n",
       "  <tbody>\n",
       "    <tr>\n",
       "      <th>0</th>\n",
       "      <td>advice Talk to your neighbours family to excha...</td>\n",
       "      <td>positive</td>\n",
       "    </tr>\n",
       "    <tr>\n",
       "      <th>1</th>\n",
       "      <td>Coronavirus Australia: Woolworths to give elde...</td>\n",
       "      <td>positive</td>\n",
       "    </tr>\n",
       "    <tr>\n",
       "      <th>2</th>\n",
       "      <td>My food stock is not the only one which is emp...</td>\n",
       "      <td>positive</td>\n",
       "    </tr>\n",
       "    <tr>\n",
       "      <th>3</th>\n",
       "      <td>Me, ready to go at supermarket during the #COV...</td>\n",
       "      <td>negative</td>\n",
       "    </tr>\n",
       "    <tr>\n",
       "      <th>4</th>\n",
       "      <td>As news of the regionÂs first confirmed COVID...</td>\n",
       "      <td>positive</td>\n",
       "    </tr>\n",
       "  </tbody>\n",
       "</table>\n",
       "</div>"
      ],
      "text/plain": [
       "                                               tweet   emotion\n",
       "0  advice Talk to your neighbours family to excha...  positive\n",
       "1  Coronavirus Australia: Woolworths to give elde...  positive\n",
       "2  My food stock is not the only one which is emp...  positive\n",
       "3  Me, ready to go at supermarket during the #COV...  negative\n",
       "4  As news of the regionÂs first confirmed COVID...  positive"
      ]
     },
     "execution_count": 2,
     "metadata": {},
     "output_type": "execute_result"
    }
   ],
   "source": [
    "data = pd.read_csv(r'tweet.csv', encoding = \"ISO-8859-1\")\n",
    "data.head()"
   ]
  },
  {
   "cell_type": "code",
   "execution_count": 3,
   "id": "2e6f6a74",
   "metadata": {
    "ExecuteTime": {
     "end_time": "2022-03-14T18:23:50.688339Z",
     "start_time": "2022-03-14T18:23:50.675349Z"
    }
   },
   "outputs": [
    {
     "data": {
      "text/plain": [
       "\"Me: I don't need to stock up on food, I'll just have Amazon deliver whatever I need #CoronaVirus\\r\\r\\n\\r\\r\\nAmazon: https://t.co/8YWaKFjExC\""
      ]
     },
     "execution_count": 3,
     "metadata": {},
     "output_type": "execute_result"
    }
   ],
   "source": [
    "data['tweet'][10]"
   ]
  },
  {
   "cell_type": "code",
   "execution_count": 4,
   "id": "bdcc5642",
   "metadata": {
    "ExecuteTime": {
     "end_time": "2022-03-14T18:23:50.704401Z",
     "start_time": "2022-03-14T18:23:50.690306Z"
    }
   },
   "outputs": [],
   "source": [
    "def cleansing(dataset):\n",
    "    '''\n",
    "    clean the dataset from special characters, links and alphanumeric words.\n",
    "    '''\n",
    "    #remove links\n",
    "    dataset['cleaned'] = dataset['tweet'].str.replace('(https?:\\/\\/)?([\\da-z\\.-]+)\\.([a-z\\.]{2,6})([\\/\\w \\.-]*)',\"\")\n",
    "\n",
    "    #remove words starting with @\n",
    "    dataset['cleaned'] = dataset['cleaned'].str.replace('(\\@\\w+.*?)',\"\")\n",
    "\n",
    "    #remove words starting with #\n",
    "    dataset['cleaned'] = dataset['cleaned'].str.replace('(\\#\\w+.*?)',\"\")\n",
    "\n",
    "    # Substituting multiple spaces with single space\n",
    "    dataset['cleaned'] = dataset['cleaned'].str.replace(r'\\s+', \" \")\n",
    "\n",
    "    #keep only alphabetical words (remove punctuation alphanumerics etc)\n",
    "    dataset['cleaned'] = dataset['cleaned'].str.replace('[^\\w\\s]','')\n",
    "    \n",
    "    return dataset"
   ]
  },
  {
   "cell_type": "code",
   "execution_count": 5,
   "id": "e3432b3f",
   "metadata": {
    "ExecuteTime": {
     "end_time": "2022-03-14T18:23:54.277929Z",
     "start_time": "2022-03-14T18:23:50.707261Z"
    }
   },
   "outputs": [
    {
     "name": "stderr",
     "output_type": "stream",
     "text": [
      "C:\\Users\\sokin\\AppData\\Local\\Temp/ipykernel_31132/165741732.py:6: FutureWarning: The default value of regex will change from True to False in a future version.\n",
      "  dataset['cleaned'] = dataset['tweet'].str.replace('(https?:\\/\\/)?([\\da-z\\.-]+)\\.([a-z\\.]{2,6})([\\/\\w \\.-]*)',\"\")\n",
      "C:\\Users\\sokin\\AppData\\Local\\Temp/ipykernel_31132/165741732.py:9: FutureWarning: The default value of regex will change from True to False in a future version.\n",
      "  dataset['cleaned'] = dataset['cleaned'].str.replace('(\\@\\w+.*?)',\"\")\n",
      "C:\\Users\\sokin\\AppData\\Local\\Temp/ipykernel_31132/165741732.py:12: FutureWarning: The default value of regex will change from True to False in a future version.\n",
      "  dataset['cleaned'] = dataset['cleaned'].str.replace('(\\#\\w+.*?)',\"\")\n",
      "C:\\Users\\sokin\\AppData\\Local\\Temp/ipykernel_31132/165741732.py:15: FutureWarning: The default value of regex will change from True to False in a future version.\n",
      "  dataset['cleaned'] = dataset['cleaned'].str.replace(r'\\s+', \" \")\n",
      "C:\\Users\\sokin\\AppData\\Local\\Temp/ipykernel_31132/165741732.py:18: FutureWarning: The default value of regex will change from True to False in a future version.\n",
      "  dataset['cleaned'] = dataset['cleaned'].str.replace('[^\\w\\s]','')\n"
     ]
    },
    {
     "data": {
      "text/html": [
       "<div>\n",
       "<style scoped>\n",
       "    .dataframe tbody tr th:only-of-type {\n",
       "        vertical-align: middle;\n",
       "    }\n",
       "\n",
       "    .dataframe tbody tr th {\n",
       "        vertical-align: top;\n",
       "    }\n",
       "\n",
       "    .dataframe thead th {\n",
       "        text-align: right;\n",
       "    }\n",
       "</style>\n",
       "<table border=\"1\" class=\"dataframe\">\n",
       "  <thead>\n",
       "    <tr style=\"text-align: right;\">\n",
       "      <th></th>\n",
       "      <th>tweet</th>\n",
       "      <th>emotion</th>\n",
       "      <th>cleaned</th>\n",
       "    </tr>\n",
       "  </thead>\n",
       "  <tbody>\n",
       "    <tr>\n",
       "      <th>0</th>\n",
       "      <td>advice Talk to your neighbours family to excha...</td>\n",
       "      <td>positive</td>\n",
       "      <td>advice Talk to your neighbours family to excha...</td>\n",
       "    </tr>\n",
       "    <tr>\n",
       "      <th>1</th>\n",
       "      <td>Coronavirus Australia: Woolworths to give elde...</td>\n",
       "      <td>positive</td>\n",
       "      <td>Coronavirus Australia Woolworths to give elder...</td>\n",
       "    </tr>\n",
       "    <tr>\n",
       "      <th>2</th>\n",
       "      <td>My food stock is not the only one which is emp...</td>\n",
       "      <td>positive</td>\n",
       "      <td>My food stock is not the only one which is  do...</td>\n",
       "    </tr>\n",
       "    <tr>\n",
       "      <th>3</th>\n",
       "      <td>Me, ready to go at supermarket during the #COV...</td>\n",
       "      <td>negative</td>\n",
       "      <td>Me ready to go at supermarket during the outbr...</td>\n",
       "    </tr>\n",
       "    <tr>\n",
       "      <th>4</th>\n",
       "      <td>As news of the regionÂs first confirmed COVID...</td>\n",
       "      <td>positive</td>\n",
       "      <td>As news of the regionÂs first confirmed COVID1...</td>\n",
       "    </tr>\n",
       "    <tr>\n",
       "      <th>...</th>\n",
       "      <td>...</td>\n",
       "      <td>...</td>\n",
       "      <td>...</td>\n",
       "    </tr>\n",
       "    <tr>\n",
       "      <th>33439</th>\n",
       "      <td>I never that weÂd be in a situation &amp;amp; wor...</td>\n",
       "      <td>positive</td>\n",
       "      <td>I never that weÂd be in a situation amp world ...</td>\n",
       "    </tr>\n",
       "    <tr>\n",
       "      <th>33440</th>\n",
       "      <td>@MrSilverScott you are definitely my man. I fe...</td>\n",
       "      <td>positive</td>\n",
       "      <td>you are definitely my man I feel like this fa...</td>\n",
       "    </tr>\n",
       "    <tr>\n",
       "      <th>33441</th>\n",
       "      <td>Response to complaint not provided citing COVI...</td>\n",
       "      <td>negative</td>\n",
       "      <td>Response to complaint not provided citing COVI...</td>\n",
       "    </tr>\n",
       "    <tr>\n",
       "      <th>33442</th>\n",
       "      <td>You know itÂs getting tough when @KameronWild...</td>\n",
       "      <td>positive</td>\n",
       "      <td>You know itÂs getting tough when is rationing ...</td>\n",
       "    </tr>\n",
       "    <tr>\n",
       "      <th>33443</th>\n",
       "      <td>@TartiiCat Well new/used Rift S are going for ...</td>\n",
       "      <td>negative</td>\n",
       "      <td>Well newused Rift S are going for 70000 on Am...</td>\n",
       "    </tr>\n",
       "  </tbody>\n",
       "</table>\n",
       "<p>33444 rows × 3 columns</p>\n",
       "</div>"
      ],
      "text/plain": [
       "                                                   tweet   emotion  \\\n",
       "0      advice Talk to your neighbours family to excha...  positive   \n",
       "1      Coronavirus Australia: Woolworths to give elde...  positive   \n",
       "2      My food stock is not the only one which is emp...  positive   \n",
       "3      Me, ready to go at supermarket during the #COV...  negative   \n",
       "4      As news of the regionÂs first confirmed COVID...  positive   \n",
       "...                                                  ...       ...   \n",
       "33439  I never that weÂd be in a situation &amp; wor...  positive   \n",
       "33440  @MrSilverScott you are definitely my man. I fe...  positive   \n",
       "33441  Response to complaint not provided citing COVI...  negative   \n",
       "33442  You know itÂs getting tough when @KameronWild...  positive   \n",
       "33443  @TartiiCat Well new/used Rift S are going for ...  negative   \n",
       "\n",
       "                                                 cleaned  \n",
       "0      advice Talk to your neighbours family to excha...  \n",
       "1      Coronavirus Australia Woolworths to give elder...  \n",
       "2      My food stock is not the only one which is  do...  \n",
       "3      Me ready to go at supermarket during the outbr...  \n",
       "4      As news of the regionÂs first confirmed COVID1...  \n",
       "...                                                  ...  \n",
       "33439  I never that weÂd be in a situation amp world ...  \n",
       "33440   you are definitely my man I feel like this fa...  \n",
       "33441  Response to complaint not provided citing COVI...  \n",
       "33442  You know itÂs getting tough when is rationing ...  \n",
       "33443   Well newused Rift S are going for 70000 on Am...  \n",
       "\n",
       "[33444 rows x 3 columns]"
      ]
     },
     "execution_count": 5,
     "metadata": {},
     "output_type": "execute_result"
    }
   ],
   "source": [
    "cleansing(data)"
   ]
  },
  {
   "cell_type": "code",
   "execution_count": 6,
   "id": "9ef6f5e1",
   "metadata": {
    "ExecuteTime": {
     "end_time": "2022-03-14T18:23:54.292877Z",
     "start_time": "2022-03-14T18:23:54.281870Z"
    }
   },
   "outputs": [
    {
     "data": {
      "text/plain": [
       "'Me I dont need to stock up on food Ill just have Amazon deliver whatever I need Amazon '"
      ]
     },
     "execution_count": 6,
     "metadata": {},
     "output_type": "execute_result"
    }
   ],
   "source": [
    "data['cleaned'][10]"
   ]
  },
  {
   "cell_type": "markdown",
   "id": "8ec25f31",
   "metadata": {},
   "source": [
    "### StopWords, Lemmatizer, POS tagging"
   ]
  },
  {
   "cell_type": "code",
   "execution_count": 7,
   "id": "ed61c2d9",
   "metadata": {
    "ExecuteTime": {
     "end_time": "2022-03-14T18:26:27.030645Z",
     "start_time": "2022-03-14T18:23:54.296826Z"
    }
   },
   "outputs": [
    {
     "data": {
      "text/plain": [
       "[('me', 'PRP'),\n",
       " ('i', 'VBP'),\n",
       " ('dont', 'JJ'),\n",
       " ('need', 'NN'),\n",
       " ('stock', 'NN'),\n",
       " ('food', 'NN'),\n",
       " ('ill', 'VB'),\n",
       " ('amazon', 'NN'),\n",
       " ('deliver', 'IN'),\n",
       " ('whatever', 'WDT'),\n",
       " ('i', 'JJ'),\n",
       " ('need', 'VBP'),\n",
       " ('amazon', 'NNS')]"
      ]
     },
     "execution_count": 7,
     "metadata": {},
     "output_type": "execute_result"
    }
   ],
   "source": [
    "words = stopwords.words(\"english\")\n",
    "lemmatizer = WordNetLemmatizer()\n",
    "# for each cell, we split the words in  a list of words, and if this word is not in stopwords we lemmatize it. \n",
    "#Then the list of words is again concatenated as a sentence and lower case is applied.\n",
    "data['cleaned'] = data['cleaned'].apply(lambda x: \" \".join([lemmatizer.lemmatize(i) \\\n",
    "                                        for i in re.sub(\"[^a-zA-Z]\", \" \",\\\n",
    "                                        str(x)).split() if i not in words]).lower())\n",
    "\n",
    "#we turn words in tokens and apply Part of Speech Tagging\n",
    "data['cleaned'] = data['cleaned'].apply(word_tokenize).apply(pos_tag)\n",
    "data['cleaned'][10]"
   ]
  },
  {
   "cell_type": "code",
   "execution_count": 8,
   "id": "845303f5",
   "metadata": {
    "ExecuteTime": {
     "end_time": "2022-03-14T18:26:27.046117Z",
     "start_time": "2022-03-14T18:26:27.034743Z"
    }
   },
   "outputs": [],
   "source": [
    "tag_filter = [\"NN\",\"NNS\",\"NNP\",\"NNPS\",\"RB\",\"RBR\",\"RBS\",\"JJ\",\"JJR\",\"JJS\"]  #keep only nouns ,adjectives and adverbs \n",
    "\n",
    "def pos_filter(row):  \n",
    "    '''\n",
    "    filter only tokens of our interest regarding their POS classification\n",
    "    '''\n",
    "    keep_list=[]\n",
    "    for x,y in row:\n",
    "        if y in tag_filter:\n",
    "            keep_list.append(x) \n",
    "\n",
    "    return keep_list"
   ]
  },
  {
   "cell_type": "code",
   "execution_count": 9,
   "id": "4164dcd4",
   "metadata": {
    "ExecuteTime": {
     "end_time": "2022-03-14T18:26:27.454191Z",
     "start_time": "2022-03-14T18:26:27.054096Z"
    }
   },
   "outputs": [
    {
     "data": {
      "text/plain": [
       "['dont', 'need', 'stock', 'food', 'amazon', 'i', 'amazon']"
      ]
     },
     "execution_count": 9,
     "metadata": {},
     "output_type": "execute_result"
    }
   ],
   "source": [
    "data['cleaned'] =data['cleaned'].apply(pos_filter)\n",
    "data['cleaned'][10]"
   ]
  },
  {
   "cell_type": "markdown",
   "id": "03e447a0",
   "metadata": {},
   "source": [
    "### Classification models"
   ]
  },
  {
   "cell_type": "code",
   "execution_count": 10,
   "id": "14859e1f",
   "metadata": {
    "ExecuteTime": {
     "end_time": "2022-03-14T18:26:29.782332Z",
     "start_time": "2022-03-14T18:26:27.458146Z"
    }
   },
   "outputs": [
    {
     "data": {
      "text/plain": [
       "<AxesSubplot:>"
      ]
     },
     "execution_count": 10,
     "metadata": {},
     "output_type": "execute_result"
    },
    {
     "data": {
      "image/png": "[encoded data removed]",
      "text/plain": [
       "<Figure size 432x288 with 1 Axes>"
      ]
     },
     "metadata": {
      "needs_background": "light"
     },
     "output_type": "display_data"
    }
   ],
   "source": [
    "data['emotion'].value_counts().plot.bar(ylim=0)"
   ]
  },
  {
   "cell_type": "code",
   "execution_count": 11,
   "id": "df128fec",
   "metadata": {
    "ExecuteTime": {
     "end_time": "2022-03-14T18:26:29.843685Z",
     "start_time": "2022-03-14T18:26:29.786323Z"
    }
   },
   "outputs": [],
   "source": [
    "data['emotion'] = data['emotion'].replace({'positive':1, 'negative':0})"
   ]
  },
  {
   "cell_type": "code",
   "execution_count": 12,
   "id": "02f7bb52",
   "metadata": {
    "ExecuteTime": {
     "end_time": "2022-03-14T18:26:29.859385Z",
     "start_time": "2022-03-14T18:26:29.848421Z"
    }
   },
   "outputs": [],
   "source": [
    "X = data['cleaned'] #training\n",
    "y = data['emotion'] # target"
   ]
  },
  {
   "cell_type": "code",
   "execution_count": 13,
   "id": "0c23cac4",
   "metadata": {
    "ExecuteTime": {
     "end_time": "2022-03-14T18:26:29.874560Z",
     "start_time": "2022-03-14T18:26:29.865472Z"
    }
   },
   "outputs": [],
   "source": [
    "# we need to transform our text into a numeric representation\n",
    "def identical_tokenizer(text):\n",
    "    return text"
   ]
  },
  {
   "cell_type": "code",
   "execution_count": 14,
   "id": "b4c0ad6c",
   "metadata": {
    "ExecuteTime": {
     "end_time": "2022-03-14T18:26:35.706146Z",
     "start_time": "2022-03-14T18:26:29.880748Z"
    }
   },
   "outputs": [],
   "source": [
    "vectorizer = CountVectorizer(tokenizer=identical_tokenizer,max_features=3000, min_df=5, lowercase=False)\n",
    "\n",
    "X = vectorizer.fit_transform(X).toarray()\n",
    "tfidfconverter = TfidfTransformer()\n",
    "X = tfidfconverter.fit_transform(X).toarray()"
   ]
  },
  {
   "cell_type": "code",
   "execution_count": 15,
   "id": "44b4a8de",
   "metadata": {
    "ExecuteTime": {
     "end_time": "2022-03-14T18:26:36.236787Z",
     "start_time": "2022-03-14T18:26:35.710125Z"
    }
   },
   "outputs": [],
   "source": [
    "X_train, X_test, y_train, y_test = train_test_split(X, y, test_size=0.1,stratify=list(y))"
   ]
  },
  {
   "cell_type": "code",
   "execution_count": 16,
   "id": "34f33a0a",
   "metadata": {
    "ExecuteTime": {
     "end_time": "2022-03-14T18:32:37.431678Z",
     "start_time": "2022-03-14T18:26:36.240788Z"
    }
   },
   "outputs": [
    {
     "name": "stderr",
     "output_type": "stream",
     "text": [
      "\r",
      "  0%|          | 0/2 [00:00<?, ?it/s]"
     ]
    },
    {
     "name": "stdout",
     "output_type": "stream",
     "text": [
      "RandomForestClassifier() : \n"
     ]
    },
    {
     "name": "stderr",
     "output_type": "stream",
     "text": [
      "\r",
      " 50%|█████     | 1/2 [05:55<05:55, 355.24s/it]"
     ]
    },
    {
     "name": "stdout",
     "output_type": "stream",
     "text": [
      "              precision    recall  f1-score   support\n",
      "\n",
      "           0       0.78      0.76      0.77      1540\n",
      "           1       0.80      0.82      0.81      1805\n",
      "\n",
      "    accuracy                           0.79      3345\n",
      "   macro avg       0.79      0.79      0.79      3345\n",
      "weighted avg       0.79      0.79      0.79      3345\n",
      "\n"
     ]
    },
    {
     "name": "stderr",
     "output_type": "stream",
     "text": [
      "100%|██████████| 2/2 [06:01<00:00, 180.58s/it]"
     ]
    },
    {
     "name": "stdout",
     "output_type": "stream",
     "text": [
      "SGDClassifier(loss='log') : \n",
      "              precision    recall  f1-score   support\n",
      "\n",
      "           0       0.80      0.77      0.79      1540\n",
      "           1       0.81      0.84      0.82      1805\n",
      "\n",
      "    accuracy                           0.81      3345\n",
      "   macro avg       0.81      0.80      0.81      3345\n",
      "weighted avg       0.81      0.81      0.81      3345\n",
      "\n"
     ]
    },
    {
     "name": "stderr",
     "output_type": "stream",
     "text": [
      "\n"
     ]
    }
   ],
   "source": [
    "models=[RandomForestClassifier(), SGDClassifier(loss='log')]\n",
    "\n",
    "for clf in tqdm(models):\n",
    "    clf.fit(X_train, y_train)\n",
    "    print(str(clf),': ')\n",
    "    y_pred = clf.predict(X_test)\n",
    "    print(classification_report(y_test,y_pred))"
   ]
  },
  {
   "cell_type": "markdown",
   "id": "97f636bf",
   "metadata": {},
   "source": [
    "### Let's test our  SGD(log) classifier"
   ]
  },
  {
   "cell_type": "code",
   "execution_count": 17,
   "id": "b510f69a",
   "metadata": {
    "ExecuteTime": {
     "end_time": "2022-03-14T18:35:28.222930Z",
     "start_time": "2022-03-14T18:35:28.208709Z"
    }
   },
   "outputs": [
    {
     "data": {
      "text/plain": [
       "0"
      ]
     },
     "execution_count": 17,
     "metadata": {},
     "output_type": "execute_result"
    }
   ],
   "source": [
    "test_1 = pd.Series(['This is the worst problem we had in years. I lost my job , my shape, everything'])\n",
    "test_1 = vectorizer.transform(test_1)\n",
    "clf.predict(test_1)[0]"
   ]
  },
  {
   "cell_type": "code",
   "execution_count": 18,
   "id": "fc6b8c41",
   "metadata": {
    "ExecuteTime": {
     "end_time": "2022-03-14T18:35:42.143791Z",
     "start_time": "2022-03-14T18:35:42.128800Z"
    }
   },
   "outputs": [
    {
     "data": {
      "text/plain": [
       "1"
      ]
     },
     "execution_count": 18,
     "metadata": {},
     "output_type": "execute_result"
    }
   ],
   "source": [
    "test_2 = pd.Series([\"Remote work is a big plus. I hope it stays after covid. I like working from home!! \"])\n",
    "test_2 = vectorizer.transform(test_2)\n",
    "clf.predict(test_2)[0]"
   ]
  },
  {
   "cell_type": "code",
   "execution_count": null,
   "id": "00ee03fa",
   "metadata": {},
   "outputs": [],
   "source": []
  }
 ],
 "metadata": {
  "kernelspec": {
   "display_name": "Python 3 (ipykernel)",
   "language": "python",
   "name": "python3"
  },
  "language_info": {
   "codemirror_mode": {
    "name": "ipython",
    "version": 3
   },
   "file_extension": ".py",
   "mimetype": "text/x-python",
   "name": "python",
   "nbconvert_exporter": "python",
   "pygments_lexer": "ipython3",
   "version": "3.8.8"
  }
 },
 "nbformat": 4,
 "nbformat_minor": 5
}
